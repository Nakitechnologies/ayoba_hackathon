{
  "nbformat": 4,
  "nbformat_minor": 0,
  "metadata": {
    "colab": {
      "name": "ANNs.ipynb",
      "provenance": [],
      "collapsed_sections": [
        "RmTe1vtKgYH5",
        "V6IGUfXGokPC"
      ]
    },
    "kernelspec": {
      "name": "python3",
      "display_name": "Python 3"
    },
    "accelerator": "GPU"
  },
  "cells": [
    {
      "cell_type": "markdown",
      "metadata": {
        "id": "1WVoPllEgQsl",
        "colab_type": "text"
      },
      "source": [
        "# Artificial Neural Networks"
      ]
    },
    {
      "cell_type": "markdown",
      "metadata": {
        "id": "RmTe1vtKgYH5",
        "colab_type": "text"
      },
      "source": [
        "## Introducton\n",
        "\n",
        "Inspired by a biological neural network, an ***artificial neural network*** is constantly learning and updating its knowledge and understanding of the environment based on experiences that it encountered.These \"updates\" are simply a set of mathematical algorithms that work together to perform operations on the input \"experience\". These operations then produce an output.\n",
        "\n",
        "Unlike\tbiological\tneural\tnetworks,\twhere\tany\tone\tneuron\tcan\tbe\tconnected\tto\tany\tother\tneuron,\tartificial neural\tnetworks\thave\ta\tvery\tspecific\tstructure.\tIn\tparticular,\tthey\tare\tcomposed\tof\tlayers.\n",
        "\t\n",
        "Each\tlayer\tfeeds\tinto\tthe\tnext\tlayer.\tThere\tare\tno\t“feedback”\tconnections.\t(Actually\tthere\tcan\tbe,\tand these\tare\tcalled\trecurrent\tneural\tnetworks,\tbut\tthey\tare\toutside\tthe\tscope\tof\tthis train.)\n",
        "\n",
        "## Learning Objectives \n",
        "* Understand how to use **Keras Layers** to build a neural network architecture\n",
        "* Understand how a model is trained and evaluated\n",
        "* Understand the importance of **validation split** and why it's useful\n"
      ]
    },
    {
      "cell_type": "markdown",
      "metadata": {
        "id": "V6IGUfXGokPC",
        "colab_type": "text"
      },
      "source": [
        "## Architecture\tof\tan\tartificial\tneural\tnetwork\n",
        "\n",
        "You\talready\tsaw\twhat a\tneural\tnetwork\tlooks\tlike\tin\tthe previous Train,\tand\thow\tto\tcalculate\tthe\toutput\tof\ta logistic\tunit. Now we take a look at the architecture of the neural netw \n",
        "\t\n",
        "Suppose\twe\thave\ta\t2-hidden\tlayer\tneural\tnetwork,\twhere the input layer are images flattened into a vector with length 784 and the last layer is a  Softmax output layer .Since we’re using a Softmax output layer, we’ll use the Cross-Entropy loss as our loss function.\n",
        "\n",
        "\n",
        "\n",
        "![alt text](https://github.com/SiyandzaD/ANNs_Deep_Learning/blob/master/ANN_arc.png?raw=true)"
      ]
    },
    {
      "cell_type": "markdown",
      "metadata": {
        "id": "QvewSmH85AdB",
        "colab_type": "text"
      },
      "source": [
        "## Let's revisit the MNIST Dataset\n",
        "\n",
        "The MNIST dataset is an acronym that stands for the Modified National Institute of Standards and Technology dataset.\n",
        "\n",
        "It is a dataset of 60,000 small square 28×28 pixel grayscale images of handwritten single digits between 0 and 9.\n",
        "\n",
        "The task is to classify a given image of a handwritten digit into one of 10 classes representing integer values from 0 to 9, inclusively.\n",
        "\n",
        "It is a widely used and deeply understood dataset and, for the most part, is “solved.” Top-performing models are deep learning convolutional neural networks that achieve a classification accuracy of above 99%, with an error rate between 0.4 %and 0.2% on the hold out test dataset. However for the scope of this train we will intentionally be avoiding CNNs for now.  \n",
        "\n",
        "\n"
      ]
    },
    {
      "cell_type": "code",
      "metadata": {
        "id": "C-EBPXMf7oXw",
        "colab_type": "code",
        "outputId": "70f689a9-a801-4300-b186-1f3c524b01ca",
        "colab": {
          "base_uri": "https://localhost:8080/",
          "height": 51
        }
      },
      "source": [
        "! pip install mnist"
      ],
      "execution_count": 0,
      "outputs": [
        {
          "output_type": "stream",
          "text": [
            "Requirement already satisfied: mnist in /usr/local/lib/python3.6/dist-packages (0.2.2)\n",
            "Requirement already satisfied: numpy in /usr/local/lib/python3.6/dist-packages (from mnist) (1.16.5)\n"
          ],
          "name": "stdout"
        }
      ]
    },
    {
      "cell_type": "markdown",
      "metadata": {
        "id": "KuieXMiTrNPC",
        "colab_type": "text"
      },
      "source": [
        "## Getting Started\n",
        "\n",
        "Before we can build any neural networks we need to import a few things from Keras."
      ]
    },
    {
      "cell_type": "code",
      "metadata": {
        "id": "D7GY5LdqrEgk",
        "colab_type": "code",
        "colab": {}
      },
      "source": [
        "import keras\n",
        "import numpy as np\n",
        "import mnist\n",
        "\n",
        "from keras.datasets import mnist\n",
        "from keras.layers import Dense\n",
        "from keras.models import Sequential\n",
        "from matplotlib import pyplot as plt\n",
        "from random import randint\n",
        "from keras.utils import to_categorical\n"
      ],
      "execution_count": 0,
      "outputs": []
    },
    {
      "cell_type": "markdown",
      "metadata": {
        "colab_type": "text",
        "id": "NCc2VmsPaErK"
      },
      "source": [
        "## Preparing the Data\n",
        "\n",
        "Next we load our dataset (MNIST, using Keras' dataset utilities)"
      ]
    },
    {
      "cell_type": "code",
      "metadata": {
        "id": "I2oLI6O9ojWE",
        "colab_type": "code",
        "outputId": "8a998198-fe2c-4fd0-87b3-d9f5dfbe29da",
        "colab": {
          "base_uri": "https://localhost:8080/",
          "height": 51
        }
      },
      "source": [
        "\n",
        "# Preparing the dataset\n",
        "# Setup train and test splits\n",
        "(x_train, y_train), (x_test, y_test) = mnist.load_data()\n",
        "\n",
        "# Making a copy before flattening for the next code-segment which displays images\n",
        "x_train_drawing = x_train\n",
        "\n",
        "\n",
        "print(x_train.shape) # (60000, 28, 28)\n",
        "print(y_train.shape) # (60000,) \n",
        "\n",
        "\n",
        "# Convert class vectors to binary class matrices\n",
        "num_classes = 10\n",
        "y_train = keras.utils.to_categorical(y_train, num_classes)\n",
        "y_test = keras.utils.to_categorical(y_test, num_classes)"
      ],
      "execution_count": 0,
      "outputs": [
        {
          "output_type": "stream",
          "text": [
            "(60000, 28, 28)\n",
            "(60000,)\n"
          ],
          "name": "stdout"
        }
      ]
    },
    {
      "cell_type": "markdown",
      "metadata": {
        "id": "trXte_PIaNGS",
        "colab_type": "text"
      },
      "source": [
        "As mentioned earlier, we need to flatten each image before we can pass it into our neural network. We’ll also normalize the pixel values from [0, 255] to [-0.5, 0.5] to make our network easier to train (using smaller, centered values is often better)."
      ]
    },
    {
      "cell_type": "code",
      "metadata": {
        "id": "i-mAezU871cZ",
        "colab_type": "code",
        "outputId": "4e28f845-4ae3-4ccc-94fd-7aeed1e41a84",
        "colab": {
          "base_uri": "https://localhost:8080/",
          "height": 51
        }
      },
      "source": [
        "# Normalize the images.\n",
        "x_train = (x_train / 255) - 0.5\n",
        "x_test = (x_test / 255) - 0.5\n",
        "\n",
        "# Flatten the images.\n",
        "x_train = x_train.reshape((-1, 784))\n",
        "x_test = x_test.reshape((-1, 784))\n",
        "\n",
        "print(x_train.shape) # (60000, 784)\n",
        "print(x_test.shape)  # (10000, 784)"
      ],
      "execution_count": 0,
      "outputs": [
        {
          "output_type": "stream",
          "text": [
            "(60000, 784)\n",
            "(10000, 784)\n"
          ],
          "name": "stdout"
        }
      ]
    },
    {
      "cell_type": "markdown",
      "metadata": {
        "id": "H8a6OWz_nvP8",
        "colab_type": "text"
      },
      "source": [
        "## A Look At Some Random Digits\n",
        "\n",
        "It's a good idea to get a sense of the dataset we're working with. Run this code multple times to see new randomly selected digits from the training set."
      ]
    },
    {
      "cell_type": "code",
      "metadata": {
        "id": "nk95PrQGn_21",
        "colab_type": "code",
        "outputId": "eb7cdb62-4d20-49ab-bf94-11cf2070456a",
        "colab": {
          "base_uri": "https://localhost:8080/",
          "height": 269
        }
      },
      "source": [
        "for i in range(64):\n",
        "    ax = plt.subplot(8, 8, i+1)\n",
        "    ax.axis('off')\n",
        "    plt.imshow(x_train_drawing[randint(0, x_train.shape[0])], cmap='Greys')"
      ],
      "execution_count": 0,
      "outputs": [
        {
          "output_type": "display_data",
          "data": {
            "image/png": "[encoded data removed]",
            "text/plain": [
              "<Figure size 432x288 with 64 Axes>"
            ]
          },
          "metadata": {
            "tags": []
          }
        }
      ]
    },
    {
      "cell_type": "markdown",
      "metadata": {
        "id": "NIxRlm_u8_jN",
        "colab_type": "text"
      },
      "source": [
        "## Building the Model\n",
        "\n",
        "\n",
        "Every Keras model is either built using the Sequential class, which represents a linear stack of layers, or the functional Model class, which is more customizeable. We’ll be using the simpler Sequential model, since our network is indeed a linear stack of layers.\n",
        "\n",
        "We start by instantiating a Sequential model:"
      ]
    },
    {
      "cell_type": "code",
      "metadata": {
        "id": "jow1fjCx86ml",
        "colab_type": "code",
        "colab": {}
      },
      "source": [
        "model = Sequential([\n",
        "  # layers...\n",
        "    \n",
        "]),"
      ],
      "execution_count": 0,
      "outputs": []
    },
    {
      "cell_type": "markdown",
      "metadata": {
        "id": "XxfR7uP69wV9",
        "colab_type": "text"
      },
      "source": [
        "The **Sequential constructor** takes an array of Keras Layers. Since we’re just building a standard feedforward network, we only need the Dense layer, which is your regular fully-connected (dense) network layer.\n",
        "\n",
        "Let’s throw in 3 Dense layers:"
      ]
    },
    {
      "cell_type": "code",
      "metadata": {
        "id": "GxKp2_4B9wdN",
        "colab_type": "code",
        "colab": {}
      },
      "source": [
        "model = Sequential([\n",
        "  Dense(64, activation='relu'),\n",
        "  Dense(64, activation='relu'),\n",
        "  Dense(10, activation='softmax'),\n",
        "]),"
      ],
      "execution_count": 0,
      "outputs": []
    },
    {
      "cell_type": "markdown",
      "metadata": {
        "id": "PeiI_gj4m4Ek",
        "colab_type": "text"
      },
      "source": [
        "The first two layers have 64 nodes each and use the ReLU activation function. The last layer is a Softmax output layer with 10 nodes, one for each class.\n",
        "\n",
        "If you need a refresher, see previous train.\n",
        "\n",
        "The last thing we always need to do is tell Keras what our network’s input will look like. We can do that by specifying an input_shape to the first layer in sequential model."
      ]
    },
    {
      "cell_type": "code",
      "metadata": {
        "id": "HgkluVz1-QrW",
        "colab_type": "code",
        "colab": {}
      },
      "source": [
        "model = Sequential([\n",
        "  Dense(64, activation='relu', input_shape=(784,)),\n",
        "  Dense(64, activation='relu'),\n",
        "    Dense(10, activation='softmax'),\n",
        "])"
      ],
      "execution_count": 0,
      "outputs": []
    },
    {
      "cell_type": "markdown",
      "metadata": {
        "id": "2DNLPE2g-bx_",
        "colab_type": "text"
      },
      "source": [
        "Once the input shape is specified, Keras will automatically infer the shapes of inputs for later layers. We’ve finished defining our model! Here’s where we’re at:"
      ]
    },
    {
      "cell_type": "code",
      "metadata": {
        "id": "1kheH6vc-fam",
        "colab_type": "code",
        "colab": {}
      },
      "source": [
        "\"\"\"\"\"#The full code is shown below:\n",
        "\n",
        "\n",
        "# Normalize the images.\n",
        "x_train = (x_train / 255) - 0.5\n",
        "x_test = (x_test / 255) - 0.5\n",
        "\n",
        "# Flatten the images.\n",
        "x_train = x_train.reshape((-1, 784))\n",
        "x_test = x_test.reshape((-1, 784))\n",
        "\n",
        "\n",
        "# Build the model.\n",
        "model = Sequential([\n",
        "  Dense(64, activation='relu', input_shape=(784,)),\n",
        "  Dense(64, activation='relu'),\n",
        "  Dense(10, activation='softmax'),\n",
        "])\"\"\"\""
      ],
      "execution_count": 0,
      "outputs": []
    },
    {
      "cell_type": "markdown",
      "metadata": {
        "id": "__bns6UV-nF9",
        "colab_type": "text"
      },
      "source": [
        "## Compiling the Model\n",
        "\n",
        "Before we can begin training, we need to configure the training process. We decide 3 key factors during the compilation step:\n",
        "\n",
        "The optimizer. We’ll stick with a pretty good default: the Adam gradient-based optimizer. Keras has many other optimizers you can look into as well.\n",
        "The loss function. Since we’re using a Softmax output layer, we’ll use the Cross-Entropy loss. Keras distinguishes between binary_crossentropy (2 classes) and categorical_crossentropy (>2 classes), so we’ll use the latter. See all Keras losses.\n",
        "A list of metrics. Since this is a classification problem, we’ll just have Keras report on the accuracy metric.\n",
        "Here’s what that compilation looks like:"
      ]
    },
    {
      "cell_type": "code",
      "metadata": {
        "id": "1ooM7kWg-3vG",
        "colab_type": "code",
        "outputId": "4de9361b-0e6b-4c34-96b0-4c26cd9e13c4",
        "colab": {
          "base_uri": "https://localhost:8080/",
          "height": 34
        }
      },
      "source": [
        "# Compile model\n",
        "model.compile(\n",
        "  optimizer='adam',\n",
        "  loss='categorical_crossentropy',\n",
        "  metrics=['accuracy'],\n",
        "),\n"
      ],
      "execution_count": 0,
      "outputs": [
        {
          "output_type": "execute_result",
          "data": {
            "text/plain": [
              "(None,)"
            ]
          },
          "metadata": {
            "tags": []
          },
          "execution_count": 27
        }
      ]
    },
    {
      "cell_type": "markdown",
      "metadata": {
        "id": "nbWsGRSZ_FOX",
        "colab_type": "text"
      },
      "source": [
        "## Training and Evaluating the Model\n",
        "\n",
        "This code trains and evaluates the model we defined above. It also uses matplotlib and the history object provided by Keras, which tracks how the model behaves through it's training. The history object is worth exploring further, here we are using it to plot training and validation accuracy over time.\n",
        "\n",
        "Training a model in Keras literally consists only of calling fit() and specifying some parameters. There are a lot of possible parameters, but we’ll only manually supply a few:\n",
        "\n",
        "* The training data (images and labels), commonly known as X and Y, respectively.\n",
        "* The number of ***epochs*** (iterations over the entire dataset) to train for.\n",
        "* The ***batch size*** (number of samples per gradient update) to use when training.\n",
        "\n",
        "Here’s what that looks like:"
      ]
    },
    {
      "cell_type": "code",
      "metadata": {
        "id": "RaA86otj_JhV",
        "colab_type": "code",
        "outputId": "7d214985-5ecb-4923-91b4-1fb0ef69b469",
        "colab": {
          "base_uri": "https://localhost:8080/",
          "height": 329
        }
      },
      "source": [
        "#Training the model\n",
        "history = model.fit(x_train, y_train, batch_size=32, epochs=10, verbose=False, validation_split=.1)\n",
        "\n",
        "#Evaluating the model\n",
        "loss, accuracy  = model.evaluate(x_test, y_test, verbose=False)\n",
        "\n",
        "plt.plot(history.history['acc'])\n",
        "plt.plot(history.history['val_acc'])\n",
        "plt.title('model accuracy')\n",
        "plt.ylabel('accuracy')\n",
        "plt.xlabel('epoch')\n",
        "plt.legend(['training', 'validation'], loc='best')\n",
        "plt.show()\n",
        "\n",
        "print(f'Test loss: {loss:.3}')\n",
        "print(f'Test accuracy: {accuracy:.3}')"
      ],
      "execution_count": 0,
      "outputs": [
        {
          "output_type": "display_data",
          "data": {
            "image/png": "[encoded data removed]",
            "text/plain": [
              "<Figure size 432x288 with 1 Axes>"
            ]
          },
          "metadata": {
            "tags": []
          }
        },
        {
          "output_type": "stream",
          "text": [
            "Test loss: 0.125\n",
            "Test accuracy: 0.966\n"
          ],
          "name": "stdout"
        }
      ]
    },
    {
      "cell_type": "markdown",
      "metadata": {
        "id": "5iedR9zWcwwM",
        "colab_type": "text"
      },
      "source": [
        "## What is the importance of the 'validation split' variable in Keras?\n",
        "\n",
        "The value of having a validation set is significant and is a vital step to understand how well your model is training. Ideally on a curve you want your training accuracy to be close to your validation curve, and the moment your validation curve falls below your training curve the alarm bells should go off and your model is probably busy over-fitting."
      ]
    },
    {
      "cell_type": "markdown",
      "metadata": {
        "id": "mG5Am4rCF-vt",
        "colab_type": "text"
      },
      "source": [
        "### Tasks\n",
        "\n",
        "Try improve accuracy of your neural network by changing hyperparameters. (***TIP*** Taking note not to leave ??? unchanged)"
      ]
    },
    {
      "cell_type": "code",
      "metadata": {
        "id": "TYY-QbOlIuwy",
        "colab_type": "code",
        "colab": {}
      },
      "source": [
        "\"\"\"\n",
        "# Compile model\n",
        "model.compile(\n",
        "  optimizer='???',\n",
        "  loss='categorical_crossentropy',\n",
        "  metrics=['accuracy'],\n",
        "),\n",
        "\n",
        "\n",
        "#Training the model\n",
        "history = model.fit(x_train, y_train, batch_size=???, epochs=???, verbose=False, validation_split=.1)\n",
        "\n",
        "#Evaluating the model\n",
        "loss, accuracy  = model.evaluate(x_test, y_test, verbose=False)\n",
        "\n",
        "plt.plot(history.history['acc'])\n",
        "plt.plot(history.history['val_acc'])\n",
        "plt.title('model accuracy')\n",
        "plt.ylabel('accuracy')\n",
        "plt.xlabel('epoch')\n",
        "plt.legend(['training', 'validation'], loc='best')\n",
        "plt.show()\n",
        "\n",
        "print(f'Test loss: {loss:.3}')\n",
        "print(f'Test accuracy: {accuracy:.3}')\"\"\""
      ],
      "execution_count": 0,
      "outputs": []
    },
    {
      "cell_type": "markdown",
      "metadata": {
        "id": "AVVQq7M6HAOO",
        "colab_type": "text"
      },
      "source": [
        "https://www.kdnuggets.com/2018/06/basic-keras-neural-network-sequential-model.html\n",
        "\n",
        "\n",
        "https://medium.com/tebs-lab/how-to-classify-mnist-digits-with-different-neural-network-architectures-39c75a0f03e3"
      ]
    }
  ]
}